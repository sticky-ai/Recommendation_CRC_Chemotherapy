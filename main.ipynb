{
 "cells": [
  {
   "cell_type": "code",
   "execution_count": 1,
   "metadata": {},
   "outputs": [
    {
     "name": "stderr",
     "output_type": "stream",
     "text": [
      "Using TensorFlow backend.\n"
     ]
    }
   ],
   "source": [
    "from sklearn.model_selection import train_test_split\n",
    "from sklearn.preprocessing import MinMaxScaler\n",
    "from imblearn.over_sampling import ADASYN\n",
    "\n",
    "from keras.models import Sequential\n",
    "from keras.layers import Dropout, Activation, Dense\n",
    "from keras.layers import Flatten, Convolution2D, MaxPooling2D\n",
    "from keras.models import load_model\n",
    "\n",
    "from visualization import *\n",
    "\n",
    "import openpyxl\n",
    "import pandas as pd\n",
    "import numpy as np\n",
    "import matplotlib.pyplot as plt\n",
    "\n",
    "%config InlineBackend.figure_format = 'retina'"
   ]
  },
  {
   "cell_type": "code",
   "execution_count": 2,
   "metadata": {},
   "outputs": [],
   "source": [
    "def drop_na_cols(df):\n",
    "    \"\"\"Return cols with more than half missing value\"\"\"\n",
    "    na_cols = [df.columns[i] for i in range(len(df.columns)) if df.count()[i] < (df.shape[0] / 2)]\n",
    "    df = df.drop(na_cols, axis = 1)\n",
    "    return df\n",
    "\n",
    "\n",
    "def drop_na(df, target):\n",
    "    \"\"\"Return not include NA rows\"\"\"\n",
    "    df = df.dropna(axis=0, subset=target)\n",
    "    df = df.dropna(axis=0)\n",
    "    return df\n",
    "\n",
    "\n",
    "def drop_specific_value(df, target, value):\n",
    "    for i in value:\n",
    "        df = df.drop(df[df[target] == i].index, axis=0)\n",
    "    return df"
   ]
  },
  {
   "cell_type": "code",
   "execution_count": 3,
   "metadata": {},
   "outputs": [
    {
     "name": "stdout",
     "output_type": "stream",
     "text": [
      "Original Dataset Shape : 1512 rows, 38 cols\n"
     ]
    }
   ],
   "source": [
    "\"\"\"Load dataset\"\"\"\n",
    "df = pd.read_excel('./datasets/f2_r1_crc_emr_191208ver.xlsx')\n",
    "print('Original Dataset Shape : {} rows, {} cols'.format(df.shape[0], df.shape[1]))\n",
    "\n",
    "# df.count()"
   ]
  },
  {
   "cell_type": "code",
   "execution_count": 4,
   "metadata": {},
   "outputs": [],
   "source": [
    "\"\"\" Save data summary to excel\n",
    "df_summary = df.describe()\n",
    "df_summary.to_excel('summary.xlsx', sheet_name='sheet1')\n",
    "\"\"\"\n",
    "\n",
    "target = 'Postop_Chemo_Regimen'\n",
    "classes = np.array(['5-FU/LV', 'XELODA', 'FOLFOX', 'FOLFIRI', 'Surveillance'])"
   ]
  },
  {
   "cell_type": "code",
   "execution_count": 5,
   "metadata": {},
   "outputs": [
    {
     "name": "stdout",
     "output_type": "stream",
     "text": [
      "After drop Columns : 1512 rows, 34 cols\n"
     ]
    }
   ],
   "source": [
    "_df = drop_na_cols(df)\n",
    "print('After drop Columns : {} rows, {} cols'.format(_df.shape[0], _df.shape[1]))"
   ]
  },
  {
   "cell_type": "code",
   "execution_count": 6,
   "metadata": {},
   "outputs": [
    {
     "name": "stdout",
     "output_type": "stream",
     "text": [
      "After drop NAs : 1358 rows, 34 cols\n"
     ]
    }
   ],
   "source": [
    "_df = drop_na(_df, [target])\n",
    "print('After drop NAs : {} rows, {} cols'.format(_df.shape[0], _df.shape[1]))"
   ]
  },
  {
   "cell_type": "code",
   "execution_count": 7,
   "metadata": {},
   "outputs": [
    {
     "name": "stdout",
     "output_type": "stream",
     "text": [
      "(1288, 34)\n",
      "(1231, 34)\n",
      "(1206, 34)\n",
      "(1204, 34)\n",
      "(1197, 34)\n",
      "(1186, 34)\n"
     ]
    }
   ],
   "source": [
    "\"\"\"Drop Special Cases in Postop_Chemo_Regimen\"\"\"\n",
    "remove_1 = ['3 + 7', '3 + 6', '5 + 7', 8, 4, 7]\n",
    "_df = drop_specific_value(_df, target, remove_1)\n",
    "print(_df.shape)\n",
    "#print(df[target_col].value_counts())\n",
    "\n",
    "\n",
    "\"\"\"Drop Special Cases in Heart_disease\"\"\"\n",
    "remove_2 = ['2, 5', '1, 5', '1, 4', '1, 3', '1, 2', 2, 3, 5, 4]\n",
    "_df = drop_specific_value(_df, 'Heart_disease', remove_2)\n",
    "print(_df.shape)\n",
    "#print(df['Heart_disease'].value_counts())\n",
    "\n",
    "\n",
    "\"\"\"Drop Special Cases in Intraoperative_tumor_location\"\"\"\n",
    "remove_3 = ['1, 2', '1', '2, 2', '1, 2, 2']\n",
    "_df = drop_specific_value(_df, 'Intraoperative_tumor_location', remove_3)\n",
    "print(_df.shape)\n",
    "# print(df['Intraoperative_tumor_location'].value_counts())\n",
    "\n",
    "\n",
    "\"\"\"Drop Special Cases in Histologic_type\"\"\"\n",
    "remove_4 = [2, 3]\n",
    "_df = drop_specific_value(_df, 'Histologic_type', remove_4)\n",
    "print(_df.shape)\n",
    "#print(df['Histologic_type'].value_counts())\n",
    "\n",
    "\n",
    "\"\"\"Drop Special Cases in K-ras\"\"\"\n",
    "_df = drop_specific_value(_df, 'K-ras', [22])\n",
    "print(_df.shape)\n",
    "#print(df['K-ras'].value_counts())\n",
    "\n",
    "\n",
    "\"\"\"Drop Special Cases in N-ras\"\"\"\n",
    "remove_5 = [21, 22]\n",
    "_df = drop_specific_value(_df, 'N-ras', remove_5)\n",
    "print(_df.shape)\n",
    "#print(df['N-ras'].value_counts())"
   ]
  },
  {
   "cell_type": "code",
   "execution_count": 8,
   "metadata": {},
   "outputs": [
    {
     "data": {
      "text/plain": [
       "Index(['Age', 'Sex', 'ASA', 'BMI', 'DM_history', 'Pulmonary_disease',\n",
       "       'Liver_disease', 'Heart_disease', 'Kidney_disease', 'Smoking_history',\n",
       "       'Prior_Dx_cancer', 'Initial_CEA', 'Hereditary_colorectal_tumor',\n",
       "       'Perforation', 'Obstruction', 'Emergency',\n",
       "       'Intraoperative_tumor_location', 'Tumor_location_pathology',\n",
       "       'Histologic_type', 'LVI', 'PNI', 'Distal resection margin',\n",
       "       'Radial margin', 'Harvested_LN', 'Positive_LN', 'pTNM', 'K-ras',\n",
       "       'N-ras', 'BRAF', 'Early_Complication', 'Postop_Chemotherapy',\n",
       "       'Postop_Chemo_Regimen', 'Recurrence', 'OS'],\n",
       "      dtype='object')"
      ]
     },
     "execution_count": 8,
     "metadata": {},
     "output_type": "execute_result"
    }
   ],
   "source": [
    "_df.columns"
   ]
  },
  {
   "cell_type": "code",
   "execution_count": 9,
   "metadata": {},
   "outputs": [
    {
     "name": "stdout",
     "output_type": "stream",
     "text": [
      "object     28\n",
      "float64     6\n",
      "dtype: int64\n"
     ]
    }
   ],
   "source": [
    "numeric_cols = ['Age', 'BMI', 'Initial_CEA', 'Harvested_LN', 'Positive_LN', 'OS']\n",
    "categorical_cols = [i for i in _df.columns if i not in numeric_cols]\n",
    "dummy_cols = ['ASA', 'Smoking_history', 'Histologic_type', 'LVI', 'PNI',\n",
    "              'Intraoperative_tumor_location', 'Tumor_location_pathology', 'Radial margin', 'pTNM']\n",
    "\n",
    "for i in numeric_cols:\n",
    "    _df[i] = pd.to_numeric(_df[i])\n",
    "    \n",
    "for i in categorical_cols:\n",
    "    _df[i] = _df[i].astype(str)\n",
    "\n",
    "print(_df.dtypes.value_counts())"
   ]
  },
  {
   "cell_type": "code",
   "execution_count": 13,
   "metadata": {},
   "outputs": [
    {
     "name": "stdout",
     "output_type": "stream",
     "text": [
      "              Age         BMI  Initial_CEA  Harvested_LN  Positive_LN  \\\n",
      "count  398.000000  398.000000   398.000000    398.000000   398.000000   \n",
      "mean    61.329146   22.977663     9.867261     22.118090     1.379397   \n",
      "std     11.033711    3.161303    51.640466     18.754106     3.323722   \n",
      "\n",
      "               OS  \n",
      "count  398.000000  \n",
      "mean    90.977387  \n",
      "std     41.155869  \n",
      "\n",
      "             Age        BMI  Initial_CEA  Harvested_LN  Positive_LN         OS\n",
      "count  45.000000  45.000000    45.000000     45.000000    45.000000  45.000000\n",
      "mean   69.866667  23.585333    20.066000     21.711111     2.444444  63.022222\n",
      "std    10.039920   3.037705    38.969139     18.121587     3.997474  41.187757\n",
      "\n",
      "             Age         BMI  Initial_CEA  Harvested_LN  Positive_LN  \\\n",
      "count  331.00000  331.000000   331.000000    331.000000   331.000000   \n",
      "mean    60.18429   23.237764    15.556949     25.193353     4.057402   \n",
      "std     10.26671    3.341583    82.033774     16.588023     6.511507   \n",
      "\n",
      "               OS  \n",
      "count  331.000000  \n",
      "mean    74.513595  \n",
      "std     36.516028  \n",
      "\n",
      "             Age        BMI  Initial_CEA  Harvested_LN  Positive_LN         OS\n",
      "count  36.000000  36.000000    36.000000     36.000000    36.000000  36.000000\n",
      "mean   60.861111  22.917778    38.628333     26.750000     9.111111  36.027778\n",
      "std    10.847390   2.872635    81.273949     15.795795    13.092588  33.912059\n",
      "\n",
      "              Age         BMI  Initial_CEA  Harvested_LN  Positive_LN  \\\n",
      "count  376.000000  376.000000   376.000000    376.000000   376.000000   \n",
      "mean    67.066489   23.217367     8.861968     19.013298     1.340426   \n",
      "std     12.070387    3.346634    45.866322     12.065702     4.301450   \n",
      "\n",
      "               OS  \n",
      "count  376.000000  \n",
      "mean    70.744681  \n",
      "std     39.168541  \n",
      "\n"
     ]
    }
   ],
   "source": [
    "\"\"\"\n",
    "1 : 5-FU/LV\n",
    "2 : XELODA\n",
    "3 : FOLFOX\n",
    "5 : FOLFIRI\n",
    "\"\"\"\n",
    "df_m = _df[_df['Sex'] == '0.0'] \n",
    "df_fm = _df[_df['Sex'] == '1.0']\n",
    "\n",
    "des_list = ['1', '2', '3', '5', '9']\n",
    "\n",
    "\n",
    "for i in des_list:\n",
    "    print(_df[_df[target] == i].describe()[0:3])\n",
    "    print('')\n",
    "\n",
    "#df.describe()\n"
   ]
  },
  {
   "cell_type": "code",
   "execution_count": 9,
   "metadata": {},
   "outputs": [
    {
     "name": "stdout",
     "output_type": "stream",
     "text": [
      "(207, 34)\n",
      "(173, 34)\n"
     ]
    }
   ],
   "source": [
    "from sklearn.utils import resample\n",
    "\n",
    "X_boot = resample(df, n_samples=int(len(df) * 5))\n",
    "# X_boot.describe()\n",
    "\n",
    "X_boot_xeloda = X_boot[X_boot[target_col] == '2']\n",
    "X_boot_folfiri = X_boot[X_boot[target_col] == '5']\n",
    "\n",
    "print(X_boot_xeloda.shape)\n",
    "print(X_boot_folfiri.shape)\n"
   ]
  },
  {
   "cell_type": "code",
   "execution_count": 10,
   "metadata": {},
   "outputs": [
    {
     "name": "stdout",
     "output_type": "stream",
     "text": [
      "(1169, 34)\n",
      "(1549, 34)\n"
     ]
    }
   ],
   "source": [
    "X = pd.concat([df, X_boot_xeloda, X_boot_folfiri])\n",
    "print(df.shape)\n",
    "print(X.shape)"
   ]
  },
  {
   "cell_type": "code",
   "execution_count": 11,
   "metadata": {},
   "outputs": [
    {
     "name": "stdout",
     "output_type": "stream",
     "text": [
      "1    398\n",
      "9    371\n",
      "3    323\n",
      "2     42\n",
      "5     35\n",
      "Name: Postop_Chemo_Regimen, dtype: int64\n",
      "1    398\n",
      "9    371\n",
      "3    323\n",
      "2    249\n",
      "5    208\n",
      "Name: Postop_Chemo_Regimen, dtype: int64\n"
     ]
    }
   ],
   "source": [
    "\n",
    "\"\"\"\n",
    "1 : 5-FU/LV\n",
    "2 : XELODA\n",
    "3 : FOLFOX\n",
    "5 : FOLFIRI\n",
    "\"\"\"\n",
    "print(df[target_col].value_counts())\n",
    "print(X[target_col].value_counts())"
   ]
  },
  {
   "cell_type": "code",
   "execution_count": null,
   "metadata": {},
   "outputs": [],
   "source": []
  }
 ],
 "metadata": {
  "kernelspec": {
   "display_name": "Python 3",
   "language": "python",
   "name": "python3"
  },
  "language_info": {
   "codemirror_mode": {
    "name": "ipython",
    "version": 3
   },
   "file_extension": ".py",
   "mimetype": "text/x-python",
   "name": "python",
   "nbconvert_exporter": "python",
   "pygments_lexer": "ipython3",
   "version": "3.6.4"
  }
 },
 "nbformat": 4,
 "nbformat_minor": 2
}
