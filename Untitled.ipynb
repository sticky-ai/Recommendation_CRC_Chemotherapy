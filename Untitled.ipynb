{
 "cells": [
  {
   "cell_type": "code",
   "execution_count": 1,
   "metadata": {},
   "outputs": [
    {
     "name": "stderr",
     "output_type": "stream",
     "text": [
      "Using TensorFlow backend.\n"
     ]
    }
   ],
   "source": [
    "from sklearn.model_selection import train_test_split\n",
    "from sklearn.preprocessing import MinMaxScaler\n",
    "from imblearn.over_sampling import ADASYN\n",
    "\n",
    "from keras.models import Sequential\n",
    "from keras.layers import Dropout, Activation, Dense\n",
    "from keras.layers import Flatten, Convolution2D, MaxPooling2D\n",
    "from keras.models import load_model\n",
    "\n",
    "from visualization import *\n",
    "\n",
    "import openpyxl\n",
    "import pandas as pd\n",
    "import numpy as np\n",
    "import matplotlib.pyplot as plt\n",
    "\n",
    "%config InlineBackend.figure_format = 'retina'"
   ]
  },
  {
   "cell_type": "code",
   "execution_count": 16,
   "metadata": {},
   "outputs": [],
   "source": [
    "def drop_na_cols(df):\n",
    "    \"\"\"Return cols with more than half missing value\"\"\"\n",
    "    na_cols = [df.columns[i] for i in range(len(df.columns)) if df.count()[i] < (df.shape[0] / 2)]\n",
    "    df = df.drop(na_cols, axis = 1)\n",
    "    return df\n",
    "\n",
    "\n",
    "def drop_na(df, target):\n",
    "    \"\"\"Return not include NA rows\"\"\"\n",
    "    df = df.dropna(axis=0, subset=target)\n",
    "    df = df.dropna(axis=0)\n",
    "    return dfh\n",
    "\n",
    "\n",
    "def drop_specific_value(df, target, value):\n",
    "    for i in value:\n",
    "        df = df.drop(df[df[target] == value].index, axis=0)\n",
    "    return df"
   ]
  },
  {
   "cell_type": "code",
   "execution_count": 10,
   "metadata": {},
   "outputs": [
    {
     "name": "stdout",
     "output_type": "stream",
     "text": [
      "Original Dataset Shape : 1512 rows, 38 cols\n"
     ]
    }
   ],
   "source": [
    "\"\"\"Load dataset\"\"\"\n",
    "df = pd.read_excel('./datasets/f2_r1_crc_emr_191208ver.xlsx')\n",
    "print('Original Dataset Shape : {} rows, {} cols'.format(df.shape[0], df.shape[1]))\n",
    "\n",
    "# df.count()"
   ]
  },
  {
   "cell_type": "code",
   "execution_count": 11,
   "metadata": {},
   "outputs": [],
   "source": [
    "\"\"\" Save data summary to excel\n",
    "df_summary = df.describe()\n",
    "df_summary.to_excel('summary.xlsx', sheet_name='sheet1')\n",
    "\"\"\"\n",
    "\n",
    "target = 'Postop_Chemo_Regimen'\n",
    "classes = np.array(['5-FU/LV', 'XELODA', 'FOLFOX', 'FOLFIRI', 'Surveillance'])"
   ]
  },
  {
   "cell_type": "code",
   "execution_count": 12,
   "metadata": {},
   "outputs": [
    {
     "name": "stdout",
     "output_type": "stream",
     "text": [
      "After drop Columns : 1512 rows, 34 cols\n"
     ]
    }
   ],
   "source": [
    "_df = drop_na_cols(df)\n",
    "print('After drop Columns : {} rows, {} cols'.format(_df.shape[0], _df.shape[1]))"
   ]
  },
  {
   "cell_type": "code",
   "execution_count": 13,
   "metadata": {},
   "outputs": [
    {
     "name": "stdout",
     "output_type": "stream",
     "text": [
      "After drop NAs : 1358 rows, 34 cols\n"
     ]
    }
   ],
   "source": [
    "_df = drop_na(_df, [target])\n",
    "print('After drop NAs : {} rows, {} cols'.format(_df.shape[0], _df.shape[1]))"
   ]
  },
  {
   "cell_type": "code",
   "execution_count": 14,
   "metadata": {},
   "outputs": [
    {
     "name": "stdout",
     "output_type": "stream",
     "text": [
      "After drop NAs : 1358 rows, 34 cols\n"
     ]
    }
   ],
   "source": [
    "\"\"\"Drop Special Cases in Postop_Chemo_Regimen\"\"\"\n"
   ]
  },
  {
   "cell_type": "code",
   "execution_count": null,
   "metadata": {},
   "outputs": [],
   "source": [
    "\"\"\"Drop Special Cases in Postop_Chemo_Regimen\"\"\"\n",
    "df = df.drop(df[df[target_col] == '3 + 7'].index, axis=0)\n",
    "df = df.drop(df[df[target_col] == '3 + 6'].index, axis=0)\n",
    "df = df.drop(df[df[target_col] == '5 + 7'].index, axis=0)\n",
    "df = df.drop(df[df[target_col] == 8].index, axis=0)\n",
    "df = df.drop(df[df[target_col] == 4].index, axis=0)\n",
    "df = df.drop(df[df[target_col] == 7].index, axis=0)\n",
    "\n",
    "print(df.shape)\n",
    "#print(df[target_col].value_counts())\n",
    "\n",
    "\n",
    "\"\"\"Drop Special Cases in Heart_disease\"\"\"\n",
    "df = df.drop(df[df['Heart_disease'] == '2, 5'].index, axis=0)\n",
    "df = df.drop(df[df['Heart_disease'] == '1, 5'].index, axis=0)\n",
    "df = df.drop(df[df['Heart_disease'] == '1, 4'].index, axis=0)\n",
    "df = df.drop(df[df['Heart_disease'] == '1, 3'].index, axis=0)\n",
    "df = df.drop(df[df['Heart_disease'] == '1, 2'].index, axis=0)\n",
    "\n",
    "df = df.drop(df[df['Heart_disease'] == 2].index, axis=0)\n",
    "df = df.drop(df[df['Heart_disease'] == 3].index, axis=0)\n",
    "df = df.drop(df[df['Heart_disease'] == 5].index, axis=0)\n",
    "df = df.drop(df[df['Heart_disease'] == 4].index, axis=0)\n",
    "\n",
    "print(df.shape)\n",
    "#print(df['Heart_disease'].value_counts())\n",
    "\n",
    "\n",
    "\"\"\"Drop Special Cases in Intraoperative_tumor_location\"\"\"\n",
    "df = df.drop(df[df['Intraoperative_tumor_location'] == '1, 2'].index, axis=0)\n",
    "df = df.drop(df[df['Intraoperative_tumor_location'] == '1, 1'].index, axis=0)\n",
    "df = df.drop(df[df['Intraoperative_tumor_location'] == '2, 2'].index, axis=0)\n",
    "df = df.drop(df[df['Intraoperative_tumor_location'] == '1, 2, 2'].index, axis=0)\n",
    "\n",
    "print(df.shape)\n",
    "print(df['Intraoperative_tumor_location'].value_counts())\n",
    "\n",
    "\n",
    "\"\"\"Drop Special Cases in Histologic_type\"\"\"\n",
    "df = df.drop(df[df['Histologic_type'] == 2].index, axis=0)\n",
    "df = df.drop(df[df['Histologic_type'] == 3].index, axis=0)\n",
    "\n",
    "print(df.shape)\n",
    "#print(df['Histologic_type'].value_counts())\n",
    "\n",
    "\n",
    "\"\"\"Drop Special Cases in K-ras\"\"\"\n",
    "df = df.drop(df[df['K-ras'] == 22].index, axis=0)\n",
    "\n",
    "print(df.shape)\n",
    "#print(df['K-ras'].value_counts())\n",
    "\n",
    "\n",
    "\"\"\"Drop Special Cases in N-ras\"\"\"\n",
    "df = df.drop(df[df['N-ras'] == 21].index, axis=0)\n",
    "df = df.drop(df[df['N-ras'] == 22].index, axis=0)\n",
    "\n",
    "print(df.shape)\n",
    "#print(df['N-ras'].value_counts())"
   ]
  },
  {
   "cell_type": "code",
   "execution_count": null,
   "metadata": {},
   "outputs": [],
   "source": []
  },
  {
   "cell_type": "code",
   "execution_count": null,
   "metadata": {},
   "outputs": [],
   "source": []
  },
  {
   "cell_type": "code",
   "execution_count": null,
   "metadata": {},
   "outputs": [],
   "source": []
  },
  {
   "cell_type": "code",
   "execution_count": null,
   "metadata": {},
   "outputs": [],
   "source": []
  },
  {
   "cell_type": "code",
   "execution_count": 7,
   "metadata": {},
   "outputs": [],
   "source": []
  },
  {
   "cell_type": "code",
   "execution_count": null,
   "metadata": {},
   "outputs": [],
   "source": []
  },
  {
   "cell_type": "code",
   "execution_count": 4,
   "metadata": {},
   "outputs": [
    {
     "name": "stdout",
     "output_type": "stream",
     "text": [
      "(1358, 34)\n"
     ]
    }
   ],
   "source": [
    "def drop_null_cols(df):\n",
    "    \"\"\"Return columns with more than half missing value\"\"\"\n",
    "    null_cols = []\n",
    "    for i in range(len(df.columns)):\n",
    "        if df.count()[i] < (df.shape[0]/2):\n",
    "            null_cols.append(df.columns[i])\n",
    "    \n",
    "    df = df.drop(null_cols, axis=1)\n",
    "    return df\n",
    "\n",
    "\n",
    "def drop_target_null_rows(df, target):\n",
    "    \"\"\"Return not include NA rows\"\"\"\n",
    "    df = df.dropna(axis=0, subset=target)\n",
    "    return df\n",
    "\n",
    "\n",
    "df = drop_null_cols(df)\n",
    "df = drop_target_null_rows(df, [target_col])\n",
    "df = df.dropna(axis=0)\n",
    "\n",
    "print(df.shape)\n",
    "#print(df[target_col].value_counts())"
   ]
  },
  {
   "cell_type": "code",
   "execution_count": 6,
   "metadata": {},
   "outputs": [
    {
     "name": "stdout",
     "output_type": "stream",
     "text": [
      "(1288, 34)\n",
      "(1231, 34)\n",
      "(1188, 34)\n",
      "1    656\n",
      "2    532\n",
      "Name: Intraoperative_tumor_location, dtype: int64\n",
      "(1186, 34)\n",
      "(1180, 34)\n",
      "(1169, 34)\n"
     ]
    }
   ],
   "source": []
  },
  {
   "cell_type": "code",
   "execution_count": 7,
   "metadata": {},
   "outputs": [
    {
     "name": "stdout",
     "output_type": "stream",
     "text": [
      "object     28\n",
      "float64     6\n",
      "dtype: int64\n"
     ]
    }
   ],
   "source": [
    "numeric_cols = ['Age', 'BMI', 'Initial_CEA', 'Harvested_LN', 'Positive_LN', 'OS']\n",
    "categorical_cols = [i for i in df.columns if i not in numeric_cols]\n",
    "dummy_cols = ['ASA', 'Smoking_history', 'Histologic_type', 'LVI', 'PNI',\n",
    "              'Intraoperative_tumor_location', 'Tumor_location_pathology', 'Radial margin', 'pTNM']\n",
    "\n",
    "for i in numeric_cols:\n",
    "    df[i] = pd.to_numeric(df[i])\n",
    "    \n",
    "for i in categorical_cols:\n",
    "    df[i] = df[i].astype(str)\n",
    "\n",
    "print(df.dtypes.value_counts())"
   ]
  },
  {
   "cell_type": "code",
   "execution_count": 8,
   "metadata": {},
   "outputs": [
    {
     "name": "stdout",
     "output_type": "stream",
     "text": [
      "              Age         BMI  Initial_CEA  Harvested_LN  Positive_LN  \\\n",
      "count  398.000000  398.000000   398.000000    398.000000   398.000000   \n",
      "mean    61.329146   22.977663     9.867261     22.118090     1.379397   \n",
      "std     11.033711    3.161303    51.640466     18.754106     3.323722   \n",
      "\n",
      "               OS  \n",
      "count  398.000000  \n",
      "mean    90.977387  \n",
      "std     41.155869  \n",
      "\n",
      "             Age        BMI  Initial_CEA  Harvested_LN  Positive_LN         OS\n",
      "count  42.000000  42.000000    42.000000     42.000000    42.000000  42.000000\n",
      "mean   69.261905  23.561905    21.081905     22.619048     2.404762  65.238095\n",
      "std    10.063359   3.084740    40.171566     18.356832     4.096754  40.917412\n",
      "\n",
      "              Age         BMI  Initial_CEA  Harvested_LN  Positive_LN  \\\n",
      "count  323.000000  323.000000   323.000000    323.000000   323.000000   \n",
      "mean    60.325077   23.245913    14.963251     25.300310     4.105263   \n",
      "std     10.339105    3.313012    81.617385     16.724092     6.579759   \n",
      "\n",
      "               OS  \n",
      "count  323.000000  \n",
      "mean    75.077399  \n",
      "std     36.495259  \n",
      "\n",
      "             Age        BMI  Initial_CEA  Harvested_LN  Positive_LN         OS\n",
      "count  35.000000  35.000000    35.000000     35.000000    35.000000  35.000000\n",
      "mean   60.828571  23.057714    39.640571     26.342857     9.057143  36.228571\n",
      "std    11.003972   2.787300    82.229931     15.833588    13.279668  34.385433\n",
      "\n",
      "              Age         BMI  Initial_CEA  Harvested_LN  Positive_LN  \\\n",
      "count  371.000000  371.000000   371.000000    371.000000   371.000000   \n",
      "mean    67.067385   23.226173     8.949784     19.026954     1.358491   \n",
      "std     12.107772    3.357299    46.168455     12.121427     4.327574   \n",
      "\n",
      "               OS  \n",
      "count  371.000000  \n",
      "mean    70.698113  \n",
      "std     39.411351  \n",
      "\n"
     ]
    }
   ],
   "source": [
    "\"\"\"\n",
    "1 : 5-FU/LV\n",
    "2 : XELODA\n",
    "3 : FOLFOX\n",
    "5 : FOLFIRI\n",
    "\"\"\"\n",
    "df_m = df[df['Sex'] == '0.0'] \n",
    "df_fm = df[df['Sex'] == '1.0']\n",
    "\n",
    "des_list = ['1', '2', '3', '5', '9']\n",
    "\n",
    "\n",
    "for i in des_list:\n",
    "    print(df[df[target_col] == i].describe()[0:3])\n",
    "    print('')\n",
    "\n",
    "#df.describe()\n"
   ]
  },
  {
   "cell_type": "code",
   "execution_count": 9,
   "metadata": {},
   "outputs": [
    {
     "name": "stdout",
     "output_type": "stream",
     "text": [
      "(207, 34)\n",
      "(173, 34)\n"
     ]
    }
   ],
   "source": [
    "from sklearn.utils import resample\n",
    "\n",
    "X_boot = resample(df, n_samples=int(len(df) * 5))\n",
    "# X_boot.describe()\n",
    "\n",
    "X_boot_xeloda = X_boot[X_boot[target_col] == '2']\n",
    "X_boot_folfiri = X_boot[X_boot[target_col] == '5']\n",
    "\n",
    "print(X_boot_xeloda.shape)\n",
    "print(X_boot_folfiri.shape)\n"
   ]
  },
  {
   "cell_type": "code",
   "execution_count": 10,
   "metadata": {},
   "outputs": [
    {
     "name": "stdout",
     "output_type": "stream",
     "text": [
      "(1169, 34)\n",
      "(1549, 34)\n"
     ]
    }
   ],
   "source": [
    "X = pd.concat([df, X_boot_xeloda, X_boot_folfiri])\n",
    "print(df.shape)\n",
    "print(X.shape)"
   ]
  },
  {
   "cell_type": "code",
   "execution_count": 11,
   "metadata": {},
   "outputs": [
    {
     "name": "stdout",
     "output_type": "stream",
     "text": [
      "1    398\n",
      "9    371\n",
      "3    323\n",
      "2     42\n",
      "5     35\n",
      "Name: Postop_Chemo_Regimen, dtype: int64\n",
      "1    398\n",
      "9    371\n",
      "3    323\n",
      "2    249\n",
      "5    208\n",
      "Name: Postop_Chemo_Regimen, dtype: int64\n"
     ]
    }
   ],
   "source": [
    "\n",
    "\"\"\"\n",
    "1 : 5-FU/LV\n",
    "2 : XELODA\n",
    "3 : FOLFOX\n",
    "5 : FOLFIRI\n",
    "\"\"\"\n",
    "print(df[target_col].value_counts())\n",
    "print(X[target_col].value_counts())"
   ]
  },
  {
   "cell_type": "code",
   "execution_count": null,
   "metadata": {},
   "outputs": [],
   "source": []
  }
 ],
 "metadata": {
  "kernelspec": {
   "display_name": "Python 3",
   "language": "python",
   "name": "python3"
  },
  "language_info": {
   "codemirror_mode": {
    "name": "ipython",
    "version": 3
   },
   "file_extension": ".py",
   "mimetype": "text/x-python",
   "name": "python",
   "nbconvert_exporter": "python",
   "pygments_lexer": "ipython3",
   "version": "3.6.4"
  }
 },
 "nbformat": 4,
 "nbformat_minor": 2
}
